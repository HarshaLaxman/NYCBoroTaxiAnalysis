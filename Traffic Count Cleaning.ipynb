{
 "cells": [
  {
   "cell_type": "code",
   "execution_count": 1,
   "metadata": {
    "collapsed": true
   },
   "outputs": [],
   "source": [
    "import pandas as pd\n",
    "import numpy as np\n",
    "import datetime"
   ]
  },
  {
   "cell_type": "code",
   "execution_count": 2,
   "metadata": {
    "collapsed": false
   },
   "outputs": [],
   "source": [
    "df = 'Traffic_Volume_Counts__2012-2013_.csv'\n",
    "df = pd.read_csv(df)"
   ]
  },
  {
   "cell_type": "code",
   "execution_count": 3,
   "metadata": {
    "collapsed": false
   },
   "outputs": [
    {
     "data": {
      "text/plain": [
       "['ID',\n",
       " 'Segment ID',\n",
       " 'Roadway Name',\n",
       " 'From',\n",
       " 'To',\n",
       " 'Direction',\n",
       " 'Date',\n",
       " '12:00-1:00 AM',\n",
       " '1:00-2:00AM',\n",
       " '2:00-3:00AM',\n",
       " '3:00-4:00AM',\n",
       " '4:00-5:00AM',\n",
       " '5:00-6:00AM',\n",
       " '6:00-7:00AM',\n",
       " '7:00-8:00AM',\n",
       " '8:00-9:00AM',\n",
       " '9:00-10:00AM',\n",
       " '10:00-11:00AM',\n",
       " '11:00-12:00PM',\n",
       " '12:00-1:00PM',\n",
       " '1:00-2:00PM',\n",
       " '2:00-3:00PM',\n",
       " '3:00-4:00PM',\n",
       " '4:00-5:00PM',\n",
       " '5:00-6:00PM',\n",
       " '6:00-7:00PM',\n",
       " '7:00-8:00PM',\n",
       " '8:00-9:00PM',\n",
       " '9:00-10:00PM',\n",
       " '10:00-11:00PM',\n",
       " '11:00-12:00AM']"
      ]
     },
     "execution_count": 3,
     "metadata": {},
     "output_type": "execute_result"
    }
   ],
   "source": [
    "cols = list(df)\n",
    "cols"
   ]
  },
  {
   "cell_type": "code",
   "execution_count": 4,
   "metadata": {
    "collapsed": false
   },
   "outputs": [
    {
     "data": {
      "text/plain": [
       "['Date',\n",
       " 'Weekday',\n",
       " 'Segment ID',\n",
       " 'Direction',\n",
       " '12:00-1:00 AM',\n",
       " 'Total Traffic',\n",
       " '1:00-2:00AM',\n",
       " '2:00-3:00AM',\n",
       " '3:00-4:00AM',\n",
       " '4:00-5:00AM',\n",
       " '5:00-6:00AM',\n",
       " '6:00-7:00AM',\n",
       " '7:00-8:00AM',\n",
       " '8:00-9:00AM',\n",
       " '9:00-10:00AM',\n",
       " '10:00-11:00AM',\n",
       " '11:00-12:00PM',\n",
       " '12:00-1:00PM',\n",
       " '1:00-2:00PM',\n",
       " '2:00-3:00PM',\n",
       " '3:00-4:00PM',\n",
       " '4:00-5:00PM',\n",
       " '5:00-6:00PM',\n",
       " '6:00-7:00PM',\n",
       " '7:00-8:00PM',\n",
       " '8:00-9:00PM',\n",
       " '9:00-10:00PM',\n",
       " '10:00-11:00PM',\n",
       " '11:00-12:00AM',\n",
       " 'Roadway Name',\n",
       " 'From',\n",
       " 'To',\n",
       " 'ID']"
      ]
     },
     "execution_count": 4,
     "metadata": {},
     "output_type": "execute_result"
    }
   ],
   "source": [
    "#Rearranging columns\n",
    "cols.insert(0, cols.pop(cols.index('Date')))\n",
    "#Roadway names and intersections are cluttering the date, moving to the back, \n",
    "#keeping segment ID so we know what are the same roads\n",
    "cols.insert(31, cols.pop(cols.index('Roadway Name')))\n",
    "cols.insert(31, cols.pop(cols.index('From')))\n",
    "cols.insert(31, cols.pop(cols.index('To')))\n",
    "#Don't know how to use 'ID'  so moving it to the back\n",
    "cols.insert(31, cols.pop(cols.index('ID')))\n",
    "cols.insert(4, 'Total Traffic')\n",
    "cols.insert(1, 'Weekday')\n",
    "cols"
   ]
  },
  {
   "cell_type": "code",
   "execution_count": null,
   "metadata": {
    "collapsed": false
   },
   "outputs": [],
   "source": [
    "#creating list of times \n",
    "Times = cols[7:31]"
   ]
  },
  {
   "cell_type": "code",
   "execution_count": null,
   "metadata": {
    "collapsed": false
   },
   "outputs": [],
   "source": [
    "#Translates dates into weekdays\n",
    "for i, row in df.iterrows():\n",
    "    df.loc[i, 'Weekday'] = datetime.datetime.strptime(df.loc[i, 'Date'], '%m/%d/%Y').strftime('%A')\n",
    "    "
   ]
  },
  {
   "cell_type": "code",
   "execution_count": null,
   "metadata": {
    "collapsed": true
   },
   "outputs": [],
   "source": [
    "df = df.ix[:, cols]"
   ]
  },
  {
   "cell_type": "code",
   "execution_count": null,
   "metadata": {
    "collapsed": false
   },
   "outputs": [],
   "source": [
    "#column for total traffic of the day\n",
    "df['Total Traffic'] = df[Times].sum(axis=1)"
   ]
  },
  {
   "cell_type": "code",
   "execution_count": null,
   "metadata": {
    "collapsed": false
   },
   "outputs": [],
   "source": [
    "df.head(n=10)"
   ]
  },
  {
   "cell_type": "code",
   "execution_count": null,
   "metadata": {
    "collapsed": false
   },
   "outputs": [],
   "source": [
    "df.to_csv('Cleaned_Traffic_Count.csv')"
   ]
  },
  {
   "cell_type": "code",
   "execution_count": null,
   "metadata": {
    "collapsed": true
   },
   "outputs": [],
   "source": []
  },
  {
   "cell_type": "code",
   "execution_count": null,
   "metadata": {
    "collapsed": true
   },
   "outputs": [],
   "source": []
  }
 ],
 "metadata": {
  "kernelspec": {
   "display_name": "Python 3",
   "language": "python",
   "name": "python3"
  },
  "language_info": {
   "codemirror_mode": {
    "name": "ipython",
    "version": 3
   },
   "file_extension": ".py",
   "mimetype": "text/x-python",
   "name": "python",
   "nbconvert_exporter": "python",
   "pygments_lexer": "ipython3",
   "version": "3.6.0"
  }
 },
 "nbformat": 4,
 "nbformat_minor": 2
}
