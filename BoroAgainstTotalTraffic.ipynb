{
 "cells": [
  {
   "cell_type": "code",
   "execution_count": null,
   "metadata": {
    "collapsed": true
   },
   "outputs": [],
   "source": [
    "#Playing around with data visualizations to compare boro and total traffic"
   ]
  },
  {
   "cell_type": "code",
   "execution_count": 1,
   "metadata": {
    "collapsed": true
   },
   "outputs": [],
   "source": [
    "\n",
    "#imports (use pip install 'package')\n",
    "import pandas as pd\n",
    "import numpy as np\n",
    "import matplotlib.pyplot as plt\n",
    "import patsy\n",
    "import statsmodels.api as sm\n",
    "from scipy.stats import ttest_ind\n",
    "import geocoder\n",
    "import folium\n",
    "from haversine import haversine\n",
    "% matplotlib inline\n",
    "import seaborn as sns\n",
    "from matplotlib import rcParams\n",
    "import datetime"
   ]
  },
  {
   "cell_type": "code",
   "execution_count": 2,
   "metadata": {
    "collapsed": true
   },
   "outputs": [],
   "source": [
    "#Load the csv file for green taxis August 2013 into a pandas dataframe\n",
    "green = pd.read_csv('Cleaned_Green_Count.csv')\n",
    "df_green = pd.DataFrame(green)\n",
    "\n",
    "#Load the cleaned csv file for NYC 2012-2013 traffic into a pandas datafram\n",
    "traffic = 'Cleaned_Traffic_Count_Coordinates.csv'\n",
    "df_traffic = pd.read_csv(traffic)"
   ]
  },
  {
   "cell_type": "code",
   "execution_count": 11,
   "metadata": {
    "collapsed": false
   },
   "outputs": [
    {
     "data": {
      "text/plain": [
       "<Container object of 2 artists>"
      ]
     },
     "execution_count": 11,
     "metadata": {},
     "output_type": "execute_result"
    },
    {
     "data": {
      "image/png": "[encoded data removed]",
      "text/plain": [
       "<matplotlib.figure.Figure at 0x299359fdfd0>"
      ]
     },
     "metadata": {},
     "output_type": "display_data"
    }
   ],
   "source": [
    "#Visualize the difference in size of the two datasets. Traffic is two years worth of overall traffic in NYC. Green is just the collected data from the boro taxis\n",
    "\n",
    "greenSum = len(df_green)\n",
    "trafficSum = df_traffic['Total Traffic'].sum()\n",
    "\n",
    "fig, ax  = plt.subplots()\n",
    "ax.bar([1, 2], [greenSum, trafficSum], width=1,\n",
    "       tick_label=['Total Boro Data', 'Total Traffic Data'], align='center')"
   ]
  },
  {
   "cell_type": "code",
   "execution_count": null,
   "metadata": {
    "collapsed": true
   },
   "outputs": [],
   "source": []
  }
 ],
 "metadata": {
  "kernelspec": {
   "display_name": "Python 3",
   "language": "python",
   "name": "python3"
  },
  "language_info": {
   "codemirror_mode": {
    "name": "ipython",
    "version": 3
   },
   "file_extension": ".py",
   "mimetype": "text/x-python",
   "name": "python",
   "nbconvert_exporter": "python",
   "pygments_lexer": "ipython3",
   "version": "3.6.0"
  }
 },
 "nbformat": 4,
 "nbformat_minor": 2
}
